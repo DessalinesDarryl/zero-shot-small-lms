{
 "cells": [
  {
   "cell_type": "code",
   "execution_count": 25,
   "metadata": {},
   "outputs": [],
   "source": [
    "from datasets import load_dataset\n",
    "import json\n",
    "from pathlib import Path\n"
   ]
  },
  {
   "cell_type": "markdown",
   "metadata": {},
   "source": [
    "### Préparation sms dataset"
   ]
  },
  {
   "cell_type": "code",
   "execution_count": 26,
   "metadata": {},
   "outputs": [
    {
     "name": "stdout",
     "output_type": "stream",
     "text": [
      "Fichier ../prompts/sms.json créé avec succès.\n"
     ]
    }
   ],
   "source": [
    "from datasets import load_dataset\n",
    "import json\n",
    "from pathlib import Path\n",
    "\n",
    "# Chargement du dataset\n",
    "dataset = load_dataset(\"sms_spam\")\n",
    "subset = dataset[\"train\"].select(range(20))\n",
    "\n",
    "# Format pour label scoring\n",
    "data = {\n",
    "    \"prompt\": 'The message: \\\"{TEXT}\\\" is {LABEL}.',\n",
    "    \"verbalizer\": {\n",
    "        \"1\": \"spam\",\n",
    "        \"0\": \"not spam\"\n",
    "    },\n",
    "    \"samples\": []\n",
    "}\n",
    "\n",
    "for item in subset:\n",
    "    text = item[\"sms\"].replace(\"\\n\", \" \")\n",
    "    label = str(item[\"label\"])  # 0 = ham, 1 = spam\n",
    "    data[\"samples\"].append({\"text\": text, \"label\": label})\n",
    "\n",
    "# Sauvegarde\n",
    "Path(\"../prompts\").mkdir(parents=True, exist_ok=True)\n",
    "with open(\"../prompts/sms.json\", \"w\", encoding=\"utf-8\") as f:\n",
    "    json.dump(data, f, indent=2)\n",
    "\n",
    "print(\"Fichier ../prompts/sms.json créé avec succès.\")\n"
   ]
  },
  {
   "cell_type": "markdown",
   "metadata": {},
   "source": [
    "### Préparation du IMBD dataset"
   ]
  },
  {
   "cell_type": "code",
   "execution_count": 27,
   "metadata": {},
   "outputs": [
    {
     "name": "stdout",
     "output_type": "stream",
     "text": [
      "Fichier prompts/imdb.json créé avec succès.\n"
     ]
    }
   ],
   "source": [
    "dataset = load_dataset(\"imdb\")\n",
    "subset = dataset[\"train\"].shuffle(seed=42).select(range(20)) # Shuffle pour équilibrer les classes\n",
    "\n",
    "data = {\n",
    "    \"prompt\": 'The review is: \"{TEXT}\"\\nWhat is the sentiment?',\n",
    "    \"verbalizer\": {\n",
    "        \"1\": [\"positive\", \"enjoyed\", \"liked\", \"good\"],\n",
    "        \"0\": [\"negative\", \"disliked\", \"not enjoy\", \"bad\"]\n",
    "    },\n",
    "    \"samples\": []\n",
    "}\n",
    "\n",
    "for item in subset:\n",
    "    text = item[\"text\"].replace(\"\\n\", \" \").strip()\n",
    "    label = str(item[\"label\"])  # 0 = négatif, 1 = positif\n",
    "    data[\"samples\"].append({\"text\": text, \"label\": label})\n",
    "\n",
    "# Sauvegarde\n",
    "Path(\"../prompts\").mkdir(exist_ok=True)\n",
    "with open(\"../prompts/imdb.json\", \"w\", encoding=\"utf-8\") as f:\n",
    "    json.dump(data, f, indent=2)\n",
    "\n",
    "print(\"Fichier prompts/imdb.json créé avec succès.\")\n"
   ]
  },
  {
   "cell_type": "markdown",
   "metadata": {},
   "source": [
    "### Préparation du dataset Emotion"
   ]
  },
  {
   "cell_type": "code",
   "execution_count": 30,
   "metadata": {},
   "outputs": [
    {
     "name": "stdout",
     "output_type": "stream",
     "text": [
      "Fichier prompts/emotion.json créé avec succès.\n"
     ]
    }
   ],
   "source": [
    "dataset = load_dataset(\"emotion\")\n",
    "subset = dataset[\"train\"].shuffle(seed=42).select(range(20))  \n",
    "\n",
    "# Liste des classes d'émotion\n",
    "label_names = dataset[\"train\"].features[\"label\"].names\n",
    "\n",
    "data = {\n",
    "    \"prompt\": \"The sentence is: \\\"{TEXT}\\\"\\nThe expressed emotion is: {LABEL}\",\n",
    "    \"verbalizer\": {\n",
    "    \"0\": \"sadness\",\n",
    "    \"1\": \"joy\",\n",
    "    \"2\": \"love\",\n",
    "    \"3\": \"anger\",\n",
    "    \"4\": \"fear\",\n",
    "    \"5\": \"surprise\"\n",
    "    },\n",
    "    \"samples\": []\n",
    "}\n",
    "\n",
    "for item in subset:\n",
    "    text = item[\"text\"].replace(\"\\n\", \" \")\n",
    "    label = str(item[\"label\"])\n",
    "    data[\"samples\"].append({\"text\": text, \"label\": label})\n",
    "\n",
    "# Sauvegarde \n",
    "with open(\"../prompts/emotion.json\", \"w\", encoding=\"utf-8\") as f:\n",
    "    json.dump(data, f, indent=2)\n",
    "\n",
    "print(\"Fichier prompts/emotion.json créé avec succès.\")\n"
   ]
  }
 ],
 "metadata": {
  "kernelspec": {
   "display_name": ".venv",
   "language": "python",
   "name": "python3"
  },
  "language_info": {
   "codemirror_mode": {
    "name": "ipython",
    "version": 3
   },
   "file_extension": ".py",
   "mimetype": "text/x-python",
   "name": "python",
   "nbconvert_exporter": "python",
   "pygments_lexer": "ipython3",
   "version": "3.13.3"
  }
 },
 "nbformat": 4,
 "nbformat_minor": 2
}
